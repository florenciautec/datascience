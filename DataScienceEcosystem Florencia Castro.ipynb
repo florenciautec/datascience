{
 "cells": [
  {
   "cell_type": "markdown",
   "id": "c0562046-bd76-4a35-9845-4438f99af8a0",
   "metadata": {
    "tags": []
   },
   "source": [
    "# Data Science Tools and Ecosystem"
   ]
  },
  {
   "cell_type": "markdown",
   "id": "a33feda1-52d0-4794-a558-4505d627615b",
   "metadata": {},
   "source": [
    "*In this notebook, Data Science Tools and Ecosystem are summarized.*"
   ]
  },
  {
   "cell_type": "markdown",
   "id": "05a58fd6-8608-46b7-ba9e-141b470ada6b",
   "metadata": {},
   "source": [
    "**Objectives:**\n",
    "- Describe the Data Scientist’s tool kit which includes: Libraries & Packages, Data sets, Machine learning models, and Big Data tools   \n",
    "- Utilize languages commonly used by data scientists like Python, R, and SQL \n",
    "- Demonstrate working knowledge of tools such as Jupyter notebooks and RStudio and utilize their various features \n",
    "- Create and manage source code for data science using Git repositories and GitHub"
   ]
  },
  {
   "cell_type": "markdown",
   "id": "d026454b-e2a8-4575-aebd-ab70e4bbf4cf",
   "metadata": {
    "tags": []
   },
   "source": [
    "Some of the popular languages that Data Scientists use are:"
   ]
  },
  {
   "cell_type": "markdown",
   "id": "e31a86c6-8cb4-456b-a21f-cfb7af078750",
   "metadata": {},
   "source": [
    "1. Python\n",
    "2. R\n",
    "3. Julia\n",
    "4. SQL\n",
    "5. Scala\n",
    "6. Java"
   ]
  },
  {
   "cell_type": "markdown",
   "id": "9a4afef7-5a0a-4c60-b6ee-c84737b16c5b",
   "metadata": {},
   "source": [
    "Some of the popular languages that Data Scientists use are:"
   ]
  },
  {
   "cell_type": "markdown",
   "id": "0a514d9f-7514-4ff6-b8af-d1cc62c287cc",
   "metadata": {
    "tags": []
   },
   "source": [
    "1. NumPy\n",
    "2. Pandas\n",
    "3. Matplotlib\n",
    "4. Seaborn\n",
    "5. Scipy\n",
    "6. Scikit-learn\n",
    "7. Keras\n",
    "8. Ggplot2\n",
    "9. Plotly"
   ]
  },
  {
   "cell_type": "markdown",
   "id": "32b1c36f-8ffc-4b01-9e00-6ed1cc1ecf18",
   "metadata": {},
   "source": [
    "| Data Science Tools |\n",
    "| -------------|\n",
    "| Anaconda |\n",
    "| Visual Studio Code |\n",
    "| R Studio |"
   ]
  },
  {
   "cell_type": "markdown",
   "id": "8a6e01b1-5760-4bbc-af2d-ed9b1276a9a1",
   "metadata": {},
   "source": [
    "### Below are a few examples of evaluating arithmetic expressions in Python"
   ]
  },
  {
   "cell_type": "code",
   "execution_count": 8,
   "id": "ae0024b9-2a27-4fcd-a944-5bc261df93ab",
   "metadata": {
    "tags": []
   },
   "outputs": [
    {
     "data": {
      "text/plain": [
       "17"
      ]
     },
     "execution_count": 8,
     "metadata": {},
     "output_type": "execute_result"
    }
   ],
   "source": [
    "# This a simple arithmetic expression to mutiply then add integers\n",
    "(3*4)+5"
   ]
  },
  {
   "cell_type": "code",
   "execution_count": 9,
   "id": "572ab511-de3d-4381-b51b-ad2b81d793fd",
   "metadata": {
    "tags": []
   },
   "outputs": [
    {
     "data": {
      "text/plain": [
       "3"
      ]
     },
     "execution_count": 9,
     "metadata": {},
     "output_type": "execute_result"
    }
   ],
   "source": [
    "# This will convert 200 minutes to hours by diving by 60\n",
    "200//60"
   ]
  },
  {
   "cell_type": "markdown",
   "id": "44cc1468-da26-4dd4-80bd-b548bc1bfbaa",
   "metadata": {},
   "source": [
    "## Author\n",
    "Florencia Castro"
   ]
  },
  {
   "cell_type": "code",
   "execution_count": null,
   "id": "f69992bd-9f43-4d06-974f-763754de1d3d",
   "metadata": {},
   "outputs": [],
   "source": []
  }
 ],
 "metadata": {
  "kernelspec": {
   "display_name": "Python",
   "language": "python",
   "name": "conda-env-python-py"
  },
  "language_info": {
   "codemirror_mode": {
    "name": "ipython",
    "version": 3
   },
   "file_extension": ".py",
   "mimetype": "text/x-python",
   "name": "python",
   "nbconvert_exporter": "python",
   "pygments_lexer": "ipython3",
   "version": "3.7.12"
  }
 },
 "nbformat": 4,
 "nbformat_minor": 5
}
